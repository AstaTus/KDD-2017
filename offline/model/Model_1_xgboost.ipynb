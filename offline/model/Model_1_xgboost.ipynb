{
 "cells": [
  {
   "cell_type": "code",
   "execution_count": 1,
   "metadata": {
    "collapsed": true
   },
   "outputs": [],
   "source": [
    "import numpy as np\n",
    "import pandas as pd\n",
    "import datetime\n",
    "\n",
    "import matplotlib\n",
    "import matplotlib.pyplot as plt"
   ]
  },
  {
   "cell_type": "code",
   "execution_count": 2,
   "metadata": {
    "collapsed": true
   },
   "outputs": [],
   "source": [
    "from sklearn.ensemble import GradientBoostingRegressor\n",
    "from sklearn.ensemble import RandomForestRegressor\n",
    "from sklearn.model_selection import train_test_split\n",
    "from sklearn.model_selection import GridSearchCV\n",
    "from sklearn.metrics import classification_report\n",
    "from sklearn.model_selection import validation_curve\n",
    "from sklearn.model_selection import learning_curve\n",
    "from sklearn import metrics\n",
    "from sklearn.metrics import fbeta_score, make_scorer"
   ]
  },
  {
   "cell_type": "code",
   "execution_count": 3,
   "metadata": {
    "collapsed": false
   },
   "outputs": [
    {
     "name": "stderr",
     "output_type": "stream",
     "text": [
      "C:\\Program Files\\Anaconda3\\lib\\site-packages\\sklearn\\cross_validation.py:44: DeprecationWarning: This module was deprecated in version 0.18 in favor of the model_selection module into which all the refactored classes and functions are moved. Also note that the interface of the new CV iterators are different from that of this module. This module will be removed in 0.20.\n",
      "  \"This module will be removed in 0.20.\", DeprecationWarning)\n"
     ]
    }
   ],
   "source": [
    "import xgboost as xgb"
   ]
  },
  {
   "cell_type": "code",
   "execution_count": 4,
   "metadata": {
    "collapsed": true
   },
   "outputs": [],
   "source": [
    "def plot_learning_curve(estimator, title, X, y, ylim=None, cv=None,\n",
    "                        n_jobs=1, train_sizes=np.linspace(.1, 1.0, 5)):\n",
    "    \"\"\"\n",
    "    Generate a simple plot of the test and training learning curve.\n",
    "\n",
    "    Parameters\n",
    "    ----------\n",
    "    estimator : object type that implements the \"fit\" and \"predict\" methods\n",
    "        An object of that type which is cloned for each validation.\n",
    "\n",
    "    title : string\n",
    "        Title for the chart.\n",
    "\n",
    "    X : array-like, shape (n_samples, n_features)\n",
    "        Training vector, where n_samples is the number of samples and\n",
    "        n_features is the number of features.\n",
    "\n",
    "    y : array-like, shape (n_samples) or (n_samples, n_features), optional\n",
    "        Target relative to X for classification or regression;\n",
    "        None for unsupervised learning.\n",
    "\n",
    "    ylim : tuple, shape (ymin, ymax), optional\n",
    "        Defines minimum and maximum yvalues plotted.\n",
    "\n",
    "    cv : int, cross-validation generator or an iterable, optional\n",
    "        Determines the cross-validation splitting strategy.\n",
    "        Possible inputs for cv are:\n",
    "          - None, to use the default 3-fold cross-validation,\n",
    "          - integer, to specify the number of folds.\n",
    "          - An object to be used as a cross-validation generator.\n",
    "          - An iterable yielding train/test splits.\n",
    "\n",
    "        For integer/None inputs, if ``y`` is binary or multiclass,\n",
    "        :class:`StratifiedKFold` used. If the estimator is not a classifier\n",
    "        or if ``y`` is neither binary nor multiclass, :class:`KFold` is used.\n",
    "\n",
    "        Refer :ref:`User Guide <cross_validation>` for the various\n",
    "        cross-validators that can be used here.\n",
    "\n",
    "    n_jobs : integer, optional\n",
    "        Number of jobs to run in parallel (default 1).\n",
    "    \"\"\"\n",
    "    plt.figure()\n",
    "    plt.title(title)\n",
    "    if ylim is not None:\n",
    "        plt.ylim(*ylim)\n",
    "    plt.xlabel(\"Training examples\")\n",
    "    plt.ylabel(\"Score\")\n",
    "    train_sizes, train_scores, test_scores = learning_curve(\n",
    "        estimator, X, y, cv=cv, n_jobs=n_jobs, train_sizes=train_sizes)\n",
    "    train_scores_mean = np.mean(train_scores, axis=1)\n",
    "    train_scores_std = np.std(train_scores, axis=1)\n",
    "    test_scores_mean = np.mean(test_scores, axis=1)\n",
    "    test_scores_std = np.std(test_scores, axis=1)\n",
    "    plt.grid()\n",
    "\n",
    "    plt.fill_between(train_sizes, train_scores_mean - train_scores_std,\n",
    "                     train_scores_mean + train_scores_std, alpha=0.1,\n",
    "                     color=\"r\")\n",
    "    plt.fill_between(train_sizes, test_scores_mean - test_scores_std,\n",
    "                     test_scores_mean + test_scores_std, alpha=0.1, color=\"g\")\n",
    "    plt.plot(train_sizes, train_scores_mean, 'o-', color=\"r\",\n",
    "             label=\"Training score\")\n",
    "    plt.plot(train_sizes, test_scores_mean, 'o-', color=\"g\",\n",
    "             label=\"Cross-validation score\")\n",
    "\n",
    "    plt.legend(loc=\"best\")\n",
    "    return plt"
   ]
  },
  {
   "cell_type": "code",
   "execution_count": 5,
   "metadata": {
    "collapsed": true
   },
   "outputs": [],
   "source": [
    "link_df = pd.read_csv('../../data/original/links (table 3).csv', index_col=0)"
   ]
  },
  {
   "cell_type": "code",
   "execution_count": 6,
   "metadata": {
    "collapsed": true
   },
   "outputs": [],
   "source": [
    "#validation_path = '../../data/offline/validation_9_6/'\n",
    "validation_path = '../../data/offline/validation_9_20/'\n",
    "#validation_path = '../../data/offline/validation_10_11/'"
   ]
  },
  {
   "cell_type": "code",
   "execution_count": 8,
   "metadata": {
    "collapsed": false
   },
   "outputs": [],
   "source": [
    "morning_gbdt_regressor_dict = {}\n",
    "for link_id in link_df.index.values:\n",
    "\n",
    "    X_train_df = pd.read_csv(validation_path + 'feature/feature1/morning/X_train_link' + str(link_id) + '.csv', index_col = 0)\n",
    "    y_train_df = pd.read_csv(validation_path + 'feature/feature1/morning/y_train_link' + str(link_id) + '.csv', index_col = 0)\n",
    "    morning_gbdt_regressor_dict[link_id] = []\n",
    "    for t in range(6):\n",
    "        X_train, X_validation, y_train, y_validation = train_test_split(X_train_df.values, y_train_df[str(t)].values, random_state=7, test_size=0.5)\n",
    "        xlf = xgb.XGBRegressor(max_depth=10, \n",
    "                        learning_rate=0.1, \n",
    "                        n_estimators=10, \n",
    "                        silent=True, \n",
    "                        objective='reg:linear', \n",
    "                        nthread=-1, \n",
    "                        gamma=0,\n",
    "                        min_child_weight=1, \n",
    "                        max_delta_step=0, \n",
    "                        subsample=0.85, \n",
    "                        colsample_bytree=0.7, \n",
    "                        colsample_bylevel=1, \n",
    "                        reg_alpha=0, \n",
    "                        reg_lambda=1, \n",
    "                        scale_pos_weight=1, \n",
    "                        seed=1440, \n",
    "                        missing=None)\n",
    "        xlf.fit(X_train, y_train)\n",
    "        predict = xlf.predict(X_validation)\n",
    "        #print(' mape=%f'%Mape(predict, y_validation))\n",
    "        morning_gbdt_regressor_dict[link_id].append(xlf)\n",
    "        "
   ]
  },
  {
   "cell_type": "code",
   "execution_count": null,
   "metadata": {
    "collapsed": true
   },
   "outputs": [],
   "source": []
  },
  {
   "cell_type": "code",
   "execution_count": 10,
   "metadata": {
    "collapsed": false
   },
   "outputs": [],
   "source": [
    "afternoon_gbdt_regressor_dict = {}\n",
    "for link_id in link_df.index.values:\n",
    "\n",
    "    X_train_df = pd.read_csv(validation_path + 'feature/feature1/afternoon/X_train_link' + str(link_id) + '.csv', index_col = 0)\n",
    "    y_train_df = pd.read_csv(validation_path + 'feature/feature1/afternoon/y_train_link' + str(link_id) + '.csv', index_col = 0)\n",
    "    afternoon_gbdt_regressor_dict[link_id] = []\n",
    "    for t in range(6):\n",
    "        X_train, X_validation, y_train, y_validation = train_test_split(X_train_df.values, y_train_df[str(t)].values, random_state=7, test_size=0.5)\n",
    "        xlf = xgb.XGBRegressor(max_depth=10, \n",
    "                        learning_rate=0.1, \n",
    "                        n_estimators=10, \n",
    "                        silent=True, \n",
    "                        objective='reg:linear', \n",
    "                        nthread=-1, \n",
    "                        gamma=0,\n",
    "                        min_child_weight=1, \n",
    "                        max_delta_step=0, \n",
    "                        subsample=0.85, \n",
    "                        colsample_bytree=0.7, \n",
    "                        colsample_bylevel=1, \n",
    "                        reg_alpha=0, \n",
    "                        reg_lambda=1, \n",
    "                        scale_pos_weight=1, \n",
    "                        seed=1440, \n",
    "                        missing=None)\n",
    "        xlf.fit(X_train, y_train)\n",
    "        predict = xlf.predict(X_validation)\n",
    "        #print(' mape=%f'%Mape(predict, y_validation))\n",
    "        afternoon_gbdt_regressor_dict[link_id].append(xlf)\n",
    "        "
   ]
  },
  {
   "cell_type": "markdown",
   "metadata": {
    "collapsed": false
   },
   "source": [
    "# Test集"
   ]
  },
  {
   "cell_type": "code",
   "execution_count": 11,
   "metadata": {
    "collapsed": false
   },
   "outputs": [],
   "source": [
    "morning_predict_link_arrive_time_dict = {}\n",
    "for link_id in link_df.index.values:\n",
    "\n",
    "    X_test_df = pd.read_csv(validation_path + 'feature/feature1/morning/X_test_link' + str(link_id) + '.csv', index_col = 0)\n",
    "    \n",
    "    morning_predict_link_arrive_time_dict[link_id] = []\n",
    "    for d in range(len(X_test_df)):\n",
    "        predicts = []\n",
    "        for t in range(6):\n",
    "            xlf = morning_gbdt_regressor_dict[link_id][t]\n",
    "            p = xlf.predict(X_test_df.loc[d].values.reshape(1, -1))\n",
    "            predicts.extend(p)\n",
    "        morning_predict_link_arrive_time_dict[link_id].append(predicts)"
   ]
  },
  {
   "cell_type": "code",
   "execution_count": 12,
   "metadata": {
    "collapsed": true
   },
   "outputs": [],
   "source": [
    "afternoon_predict_link_arrive_time_dict = {}\n",
    "for link_id in link_df.index.values:\n",
    "\n",
    "    X_test_df = pd.read_csv(validation_path + 'feature/feature1/afternoon/X_test_link' + str(link_id) + '.csv', index_col = 0)\n",
    "    afternoon_predict_link_arrive_time_dict[link_id] = []\n",
    "    for d in range(len(X_test_df)):\n",
    "        predicts = []\n",
    "        for t in range(6):\n",
    "            xlf = afternoon_gbdt_regressor_dict[link_id][t]\n",
    "            p = xlf.predict(X_test_df.loc[d].values.reshape(1, -1))\n",
    "            predicts.extend(p)\n",
    "            \n",
    "        afternoon_predict_link_arrive_time_dict[link_id].append(predicts)"
   ]
  },
  {
   "cell_type": "code",
   "execution_count": null,
   "metadata": {
    "collapsed": false
   },
   "outputs": [],
   "source": []
  },
  {
   "cell_type": "code",
   "execution_count": 13,
   "metadata": {
    "collapsed": false
   },
   "outputs": [],
   "source": [
    "def Mape(ground_truth, predictions):\n",
    "    diff = (ground_truth - predictions) / ground_truth\n",
    "    diff = np.abs(diff)\n",
    "    mape = diff.sum() / ground_truth.size\n",
    "    \n",
    "    return mape\n",
    "\n",
    "Mapeloss = make_scorer(Mape, greater_is_better=False)"
   ]
  },
  {
   "cell_type": "code",
   "execution_count": 20,
   "metadata": {
    "collapsed": false
   },
   "outputs": [],
   "source": [
    "for link_id in link_df.index.values:\n",
    "    predict_df = pd.DataFrame(afternoon_predict_link_arrive_time_dict[link_id])\n",
    "    predict_df.to_csv(validation_path + 'prediction/feature1_xgboost/afternoon/' + str(link_id) + '.csv')\n",
    "    \n",
    "    predict_df = pd.DataFrame(morning_predict_link_arrive_time_dict[link_id])\n",
    "    predict_df.to_csv(validation_path + 'prediction/feature1_xgboost/morning/' + str(link_id) + '.csv')"
   ]
  },
  {
   "cell_type": "code",
   "execution_count": null,
   "metadata": {
    "collapsed": true
   },
   "outputs": [],
   "source": []
  }
 ],
 "metadata": {
  "anaconda-cloud": {},
  "kernelspec": {
   "display_name": "Python [conda root]",
   "language": "python",
   "name": "conda-root-py"
  },
  "language_info": {
   "codemirror_mode": {
    "name": "ipython",
    "version": 3
   },
   "file_extension": ".py",
   "mimetype": "text/x-python",
   "name": "python",
   "nbconvert_exporter": "python",
   "pygments_lexer": "ipython3",
   "version": "3.5.2"
  }
 },
 "nbformat": 4,
 "nbformat_minor": 1
}
