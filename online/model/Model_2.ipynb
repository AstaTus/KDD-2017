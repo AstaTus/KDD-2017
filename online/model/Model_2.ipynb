{
 "cells": [
  {
   "cell_type": "code",
   "execution_count": 15,
   "metadata": {
    "collapsed": true
   },
   "outputs": [],
   "source": [
    "import numpy as np\n",
    "import pandas as pd\n",
    "import datetime\n",
    "\n",
    "import matplotlib\n",
    "import matplotlib.pyplot as plt"
   ]
  },
  {
   "cell_type": "code",
   "execution_count": 16,
   "metadata": {
    "collapsed": true
   },
   "outputs": [],
   "source": [
    "from sklearn.ensemble import GradientBoostingRegressor\n",
    "from sklearn.ensemble import RandomForestRegressor\n",
    "from sklearn.model_selection import train_test_split\n",
    "from sklearn.model_selection import GridSearchCV\n",
    "from sklearn.metrics import classification_report\n",
    "from sklearn.model_selection import validation_curve\n",
    "from sklearn.model_selection import learning_curve\n",
    "from sklearn import metrics\n",
    "from sklearn.metrics import fbeta_score, make_scorer"
   ]
  },
  {
   "cell_type": "code",
   "execution_count": 17,
   "metadata": {
    "collapsed": true
   },
   "outputs": [],
   "source": [
    "def plot_learning_curve(estimator, title, X, y, ylim=None, cv=None,\n",
    "                        n_jobs=1, train_sizes=np.linspace(.1, 1.0, 5)):\n",
    "    \"\"\"\n",
    "    Generate a simple plot of the test and training learning curve.\n",
    "\n",
    "    Parameters\n",
    "    ----------\n",
    "    estimator : object type that implements the \"fit\" and \"predict\" methods\n",
    "        An object of that type which is cloned for each validation.\n",
    "\n",
    "    title : string\n",
    "        Title for the chart.\n",
    "\n",
    "    X : array-like, shape (n_samples, n_features)\n",
    "        Training vector, where n_samples is the number of samples and\n",
    "        n_features is the number of features.\n",
    "\n",
    "    y : array-like, shape (n_samples) or (n_samples, n_features), optional\n",
    "        Target relative to X for classification or regression;\n",
    "        None for unsupervised learning.\n",
    "\n",
    "    ylim : tuple, shape (ymin, ymax), optional\n",
    "        Defines minimum and maximum yvalues plotted.\n",
    "\n",
    "    cv : int, cross-validation generator or an iterable, optional\n",
    "        Determines the cross-validation splitting strategy.\n",
    "        Possible inputs for cv are:\n",
    "          - None, to use the default 3-fold cross-validation,\n",
    "          - integer, to specify the number of folds.\n",
    "          - An object to be used as a cross-validation generator.\n",
    "          - An iterable yielding train/test splits.\n",
    "\n",
    "        For integer/None inputs, if ``y`` is binary or multiclass,\n",
    "        :class:`StratifiedKFold` used. If the estimator is not a classifier\n",
    "        or if ``y`` is neither binary nor multiclass, :class:`KFold` is used.\n",
    "\n",
    "        Refer :ref:`User Guide <cross_validation>` for the various\n",
    "        cross-validators that can be used here.\n",
    "\n",
    "    n_jobs : integer, optional\n",
    "        Number of jobs to run in parallel (default 1).\n",
    "    \"\"\"\n",
    "    plt.figure()\n",
    "    plt.title(title)\n",
    "    if ylim is not None:\n",
    "        plt.ylim(*ylim)\n",
    "    plt.xlabel(\"Training examples\")\n",
    "    plt.ylabel(\"Score\")\n",
    "    train_sizes, train_scores, test_scores = learning_curve(\n",
    "        estimator, X, y, cv=cv, n_jobs=n_jobs, train_sizes=train_sizes)\n",
    "    train_scores_mean = np.mean(train_scores, axis=1)\n",
    "    train_scores_std = np.std(train_scores, axis=1)\n",
    "    test_scores_mean = np.mean(test_scores, axis=1)\n",
    "    test_scores_std = np.std(test_scores, axis=1)\n",
    "    plt.grid()\n",
    "\n",
    "    plt.fill_between(train_sizes, train_scores_mean - train_scores_std,\n",
    "                     train_scores_mean + train_scores_std, alpha=0.1,\n",
    "                     color=\"r\")\n",
    "    plt.fill_between(train_sizes, test_scores_mean - test_scores_std,\n",
    "                     test_scores_mean + test_scores_std, alpha=0.1, color=\"g\")\n",
    "    plt.plot(train_sizes, train_scores_mean, 'o-', color=\"r\",\n",
    "             label=\"Training score\")\n",
    "    plt.plot(train_sizes, test_scores_mean, 'o-', color=\"g\",\n",
    "             label=\"Cross-validation score\")\n",
    "\n",
    "    plt.legend(loc=\"best\")\n",
    "    return plt"
   ]
  },
  {
   "cell_type": "code",
   "execution_count": 18,
   "metadata": {
    "collapsed": false
   },
   "outputs": [],
   "source": [
    "def Mape(ground_truth, predictions):\n",
    "    diff = (ground_truth - predictions) / ground_truth\n",
    "    diff = np.abs(diff)\n",
    "    mape = diff.sum() / len(ground_truth)\n",
    "    print('mape=%f'%mape)\n",
    "    return mape\n",
    "\n",
    "Mapeloss = make_scorer(Mape, greater_is_better=False)"
   ]
  },
  {
   "cell_type": "code",
   "execution_count": 19,
   "metadata": {
    "collapsed": true
   },
   "outputs": [],
   "source": [
    "validation_path = '../../data/online/'"
   ]
  },
  {
   "cell_type": "code",
   "execution_count": 20,
   "metadata": {
    "collapsed": false
   },
   "outputs": [],
   "source": [
    "link_df = pd.read_csv('../../data/original/links (table 3).csv', index_col=0)"
   ]
  },
  {
   "cell_type": "code",
   "execution_count": 21,
   "metadata": {
    "collapsed": false
   },
   "outputs": [],
   "source": [
    "morning_gbdt_regressor_dict = {}\n",
    "for link_id in link_df.index.values:\n",
    "\n",
    "    X_train_df = pd.read_csv(validation_path + 'feature/feature2/morning/X_train_link' + str(link_id) + '.csv', index_col = 0)\n",
    "    y_train_df = pd.read_csv(validation_path + 'feature/feature2/morning/y_train_link' + str(link_id) + '.csv', index_col = 0)\n",
    "    morning_gbdt_regressor_dict[link_id] = []\n",
    "    for t in range(6):\n",
    "        X_train, X_validation, y_train, y_validation = train_test_split(X_train_df.values, y_train_df[str(t)].values, random_state=7, test_size=0.5)\n",
    "        gbdt_regressor = GradientBoostingRegressor(learning_rate=0.01, n_estimators=8,min_samples_split=3, min_samples_leaf=2)\n",
    "        gbdt_regressor.fit(X_train, y_train)\n",
    "        predict = gbdt_regressor.predict(X_validation)\n",
    "        morning_gbdt_regressor_dict[link_id].append(gbdt_regressor)\n",
    "        "
   ]
  },
  {
   "cell_type": "code",
   "execution_count": 22,
   "metadata": {
    "collapsed": false
   },
   "outputs": [],
   "source": [
    "afternoon_gbdt_regressor_dict = {}\n",
    "for link_id in link_df.index.values:\n",
    "\n",
    "    X_train_df = pd.read_csv(validation_path +  'feature/feature2/afternoon/X_train_link' + str(link_id) + '.csv', index_col = 0)\n",
    "    y_train_df = pd.read_csv(validation_path +  'feature/feature2/afternoon/y_train_link' + str(link_id) + '.csv', index_col = 0)\n",
    "    afternoon_gbdt_regressor_dict[link_id] = []\n",
    "    for t in range(6):\n",
    "        X_train, X_validation, y_train, y_validation = train_test_split(X_train_df.values, y_train_df[str(t)].values, random_state=7, test_size=0.5)\n",
    "        gbdt_regressor = GradientBoostingRegressor(learning_rate=0.01, n_estimators=8,min_samples_split=3, min_samples_leaf=2)\n",
    "        gbdt_regressor.fit(X_train, y_train)\n",
    "        predict = gbdt_regressor.predict(X_validation)\n",
    "        afternoon_gbdt_regressor_dict[link_id].append(gbdt_regressor)\n",
    "        "
   ]
  },
  {
   "cell_type": "markdown",
   "metadata": {
    "collapsed": false
   },
   "source": [
    "# Test集"
   ]
  },
  {
   "cell_type": "code",
   "execution_count": 23,
   "metadata": {
    "collapsed": false
   },
   "outputs": [],
   "source": [
    "morning_predict_link_arrive_time_dict = {}\n",
    "for link_id in link_df.index.values:\n",
    "\n",
    "    X_test_df = pd.read_csv(validation_path + 'feature/feature2/morning/X_test_link' + str(link_id) + '.csv', index_col = 0)\n",
    "    morning_predict_link_arrive_time_dict[link_id] = []\n",
    "    for d in range(len(X_test_df)):\n",
    "        predicts = []\n",
    "        for t in range(6):\n",
    "            gbdt_regressor = morning_gbdt_regressor_dict[link_id][t]\n",
    "            p = gbdt_regressor.predict(X_test_df.loc[d].values.reshape(1, -1))\n",
    "            predicts.extend(p)\n",
    "        morning_predict_link_arrive_time_dict[link_id].append(predicts)"
   ]
  },
  {
   "cell_type": "code",
   "execution_count": 24,
   "metadata": {
    "collapsed": true
   },
   "outputs": [],
   "source": [
    "afternoon_predict_link_arrive_time_dict = {}\n",
    "for link_id in link_df.index.values:\n",
    "\n",
    "    X_test_df = pd.read_csv(validation_path + 'feature/feature2/afternoon/X_test_link' + str(link_id) + '.csv', index_col = 0)\n",
    "    afternoon_predict_link_arrive_time_dict[link_id] = []\n",
    "    for d in range(len(X_test_df)):\n",
    "        predicts = []\n",
    "        for t in range(6):\n",
    "            gbdt_regressor = afternoon_gbdt_regressor_dict[link_id][t]\n",
    "            p = gbdt_regressor.predict(X_test_df.loc[d].values.reshape(1, -1))\n",
    "            predicts.extend(p)\n",
    "            \n",
    "        afternoon_predict_link_arrive_time_dict[link_id].append(predicts)"
   ]
  },
  {
   "cell_type": "code",
   "execution_count": 25,
   "metadata": {
    "collapsed": true
   },
   "outputs": [],
   "source": [
    "for link_id in link_df.index.values:\n",
    "    predict_df = pd.DataFrame(afternoon_predict_link_arrive_time_dict[link_id])\n",
    "    predict_df.to_csv(validation_path + 'prediction/feature2/afternoon/' + str(link_id) + '.csv')\n",
    "    \n",
    "    predict_df = pd.DataFrame(morning_predict_link_arrive_time_dict[link_id])\n",
    "    predict_df.to_csv(validation_path + 'prediction/feature2/morning/' + str(link_id) + '.csv')"
   ]
  },
  {
   "cell_type": "code",
   "execution_count": null,
   "metadata": {
    "collapsed": true
   },
   "outputs": [],
   "source": []
  },
  {
   "cell_type": "code",
   "execution_count": 11,
   "metadata": {
    "collapsed": false
   },
   "outputs": [],
   "source": [
    "routes = pd.read_csv('../data/original/routes (table 4).csv')"
   ]
  },
  {
   "cell_type": "code",
   "execution_count": 12,
   "metadata": {
    "collapsed": false
   },
   "outputs": [],
   "source": [
    "submissions = []\n",
    "for i in routes.index:\n",
    "    link_seq = routes.loc[i]['link_seq']\n",
    "    links = link_seq.split(',')\n",
    "    \n",
    "    #morning\n",
    "    start_time = pd.to_datetime('2016-10-18 08:00:00')\n",
    "    for d in range(7):\n",
    "        current_time = start_time\n",
    "        for t in range(6):\n",
    "            time = 0\n",
    "            record = []\n",
    "            record.append(routes.loc[i]['intersection_id'])\n",
    "            record.append(routes.loc[i]['tollgate_id'])\n",
    "            record.append('[' + str(current_time) + ',' + str(current_time + datetime.timedelta(minutes=20)) + ')')\n",
    "            for link_id in links:\n",
    "                time = time + morning_predict_link_arrive_time_dict[int(link_id)][d][t]\n",
    "            record.append(time)\n",
    "\n",
    "            submissions.append(record)\n",
    "            current_time = current_time + datetime.timedelta(minutes=20)\n",
    "            \n",
    "        start_time = start_time + datetime.timedelta(days=1)\n",
    "        \n",
    "    #afternoon\n",
    "    start_time = pd.to_datetime('2016-10-18 17:00:00')\n",
    "    for d in range(7):\n",
    "        current_time = start_time\n",
    "        for t in range(6):\n",
    "            time = 0\n",
    "            record = []\n",
    "            record.append(routes.loc[i]['intersection_id'])\n",
    "            record.append(routes.loc[i]['tollgate_id'])\n",
    "            record.append('[' + str(current_time) + ',' + str(current_time + datetime.timedelta(minutes=20)) + ')')\n",
    "            for link_id in links:\n",
    "                time = time + afternoon_predict_link_arrive_time_dict[int(link_id)][d][t]\n",
    "            record.append(time)\n",
    "\n",
    "            submissions.append(record)\n",
    "            current_time = current_time + datetime.timedelta(minutes=20)\n",
    "            \n",
    "        start_time = start_time + datetime.timedelta(days=1)"
   ]
  },
  {
   "cell_type": "code",
   "execution_count": 13,
   "metadata": {
    "collapsed": false
   },
   "outputs": [],
   "source": [
    "predict_df = pd.DataFrame(submissions).rename(columns={0:'intersection_id', 1:'tollgate_id', 2:'time_window', 3:'avg_travel_time'})"
   ]
  },
  {
   "cell_type": "code",
   "execution_count": 14,
   "metadata": {
    "collapsed": false
   },
   "outputs": [],
   "source": [
    "predict_df.to_csv('../data/prediction/prediction_m2.csv', index=False)"
   ]
  },
  {
   "cell_type": "code",
   "execution_count": null,
   "metadata": {
    "collapsed": true
   },
   "outputs": [],
   "source": []
  }
 ],
 "metadata": {
  "anaconda-cloud": {},
  "kernelspec": {
   "display_name": "Python [conda root]",
   "language": "python",
   "name": "conda-root-py"
  },
  "language_info": {
   "codemirror_mode": {
    "name": "ipython",
    "version": 3
   },
   "file_extension": ".py",
   "mimetype": "text/x-python",
   "name": "python",
   "nbconvert_exporter": "python",
   "pygments_lexer": "ipython3",
   "version": "3.5.2"
  }
 },
 "nbformat": 4,
 "nbformat_minor": 1
}
