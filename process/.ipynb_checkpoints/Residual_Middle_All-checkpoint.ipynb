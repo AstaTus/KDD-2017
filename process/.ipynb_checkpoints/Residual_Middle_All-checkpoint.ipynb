{
 "cells": [
  {
   "cell_type": "code",
   "execution_count": 1,
   "metadata": {
    "collapsed": true
   },
   "outputs": [],
   "source": [
    "import numpy as np\n",
    "import pandas as pd\n",
    "import datetime"
   ]
  },
  {
   "cell_type": "code",
   "execution_count": 2,
   "metadata": {
    "collapsed": true
   },
   "outputs": [],
   "source": [
    "middle_time_df = pd.read_csv('../data/preprocess/middle_normal_link.csv', parse_dates=['end_time', 'start_time', 'norm_start_time'])"
   ]
  },
  {
   "cell_type": "code",
   "execution_count": 3,
   "metadata": {
    "collapsed": true
   },
   "outputs": [],
   "source": [
    "all_time_df = pd.read_csv('../data/preprocess/all_travel_link.csv', parse_dates=['end_time', 'start_time', 'norm_start_time'])"
   ]
  },
  {
   "cell_type": "code",
   "execution_count": 4,
   "metadata": {
    "collapsed": true
   },
   "outputs": [],
   "source": [
    "link_df = pd.read_csv('../data/original/links (table 3).csv', index_col=0)"
   ]
  },
  {
   "cell_type": "code",
   "execution_count": 6,
   "metadata": {
    "collapsed": false
   },
   "outputs": [],
   "source": [
    "am_start_date = pd.to_datetime('2016-07-19')\n",
    "am_end_date = pd.to_datetime('2016-10-24')\n",
    "link_residual_dict = {}\n",
    "for link_id in link_df.index.values:\n",
    "    appoint_middle_time_df = middle_time_df[middle_time_df['link'] == link_id]\n",
    "    appoint_all_time_df = all_time_df[all_time_df['link'] == link_id]\n",
    "    \n",
    "    morning_residual_dict = {}\n",
    "    afternoon_residual_dict = {}\n",
    "    norm_date = am_start_date\n",
    "    norm_time = norm_date + datetime.timedelta(hours=6)\n",
    "    while (norm_date <= am_end_date ):\n",
    "        morning_time = norm_date + datetime.timedelta(hours=6)\n",
    "        afternoon_time = norm_date + datetime.timedelta(hours=15)\n",
    "        day_morning_times = []\n",
    "        day_afternoon_times = []\n",
    "        for t in range(12):\n",
    "            #morning\n",
    "            middle_temp_df = appoint_middle_time_df[appoint_middle_time_df['norm_start_time'] == morning_time]\n",
    "            all_temp_df = appoint_all_time_df[appoint_all_time_df['norm_start_time'] == morning_time]\n",
    "            if len(middle_temp_df) == 0:\n",
    "                middle_mean = 0\n",
    "            else:\n",
    "                middle_mean = middle_temp_df['consume'].mean()\n",
    "            \n",
    "            if len(all_temp_df) == 0:\n",
    "                all_mean = 0\n",
    "            else:\n",
    "                all_mean = all_temp_df['consume'].mean()\n",
    "                \n",
    "            day_morning_times.append(all_mean - middle_mean)\n",
    "            morning_time = morning_time + datetime.timedelta(minutes=20)\n",
    "            \n",
    "            #afternoon\n",
    "            middle_temp_df = appoint_middle_time_df[appoint_middle_time_df['norm_start_time'] == afternoon_time]\n",
    "            all_temp_df = appoint_all_time_df[appoint_all_time_df['norm_start_time'] == afternoon_time]\n",
    "            if len(middle_temp_df) == 0:\n",
    "                middle_mean = 0\n",
    "            else:\n",
    "                middle_mean = middle_temp_df['consume'].mean()\n",
    "            \n",
    "            if len(all_temp_df) == 0:\n",
    "                all_mean = 0\n",
    "            else:\n",
    "                all_mean = all_temp_df['consume'].mean()\n",
    "            \n",
    "            day_afternoon_times.append(all_mean - middle_mean)\n",
    "            afternoon_time = afternoon_time + datetime.timedelta(minutes=20)\n",
    "\n",
    "        morning_residual_dict[norm_date] = day_morning_times\n",
    "        afternoon_residual_dict[norm_date] = day_afternoon_times\n",
    "\n",
    "        norm_date = norm_date + datetime.timedelta(days=1)\n",
    "        \n",
    "    link_residual_dict[link_id] = [morning_residual_dict, afternoon_residual_dict]"
   ]
  },
  {
   "cell_type": "code",
   "execution_count": 8,
   "metadata": {
    "collapsed": false
   },
   "outputs": [],
   "source": [
    "for link_id in link_df.index.values:\n",
    "    for m in range(2):\n",
    "        residual_df = pd.DataFrame(link_residual_dict[link_id][m]).T\n",
    "        \n",
    "        if m == 0:\n",
    "            residual_df.to_csv('../data/process/link_residual_time/morning/' + str(link_id) + '.csv')\n",
    "        else:\n",
    "            residual_df.to_csv('../data/feature/link_residual_time/afternoon/' + str(link_id) + '.csv')\n"
   ]
  },
  {
   "cell_type": "code",
   "execution_count": null,
   "metadata": {
    "collapsed": true
   },
   "outputs": [],
   "source": []
  }
 ],
 "metadata": {
  "anaconda-cloud": {},
  "kernelspec": {
   "display_name": "Python [conda root]",
   "language": "python",
   "name": "conda-root-py"
  },
  "language_info": {
   "codemirror_mode": {
    "name": "ipython",
    "version": 3
   },
   "file_extension": ".py",
   "mimetype": "text/x-python",
   "name": "python",
   "nbconvert_exporter": "python",
   "pygments_lexer": "ipython3",
   "version": "3.5.2"
  }
 },
 "nbformat": 4,
 "nbformat_minor": 1
}
