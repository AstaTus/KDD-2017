{
 "cells": [
  {
   "cell_type": "code",
   "execution_count": 1,
   "metadata": {
    "collapsed": true
   },
   "outputs": [],
   "source": [
    "import numpy as np\n",
    "import pandas as pd\n",
    "import datetime"
   ]
  },
  {
   "cell_type": "code",
   "execution_count": 7,
   "metadata": {
    "collapsed": true
   },
   "outputs": [],
   "source": [
    "valid_travel_link_df = pd.read_csv('../data/preprocess/valid_travel_link.csv', parse_dates=['date', 'twenty_minutes_date', 'start_time'])"
   ]
  },
  {
   "cell_type": "code",
   "execution_count": 8,
   "metadata": {
    "collapsed": true
   },
   "outputs": [],
   "source": [
    "link_df = pd.read_csv('../data/original/links (table 3).csv', index_col=0)"
   ]
  },
  {
   "cell_type": "markdown",
   "metadata": {},
   "source": [
    "# 时间区间 ：7月19日-10月24日\n",
    "每个ink输出对应的两个文件 分别是上午的4个小时和下午的4个小时，计算每前2小时的1/4、1/2、3/4位后两小时的到达时间均值, 测试集数据只有2小时"
   ]
  },
  {
   "cell_type": "code",
   "execution_count": 21,
   "metadata": {
    "collapsed": false
   },
   "outputs": [
    {
     "name": "stdout",
     "output_type": "stream",
     "text": [
      "100\n",
      "101\n",
      "102\n",
      "103\n",
      "104\n",
      "105\n",
      "106\n",
      "107\n",
      "108\n",
      "109\n",
      "110\n",
      "111\n",
      "112\n",
      "113\n",
      "114\n",
      "115\n",
      "116\n",
      "117\n",
      "118\n",
      "119\n",
      "120\n",
      "121\n",
      "122\n",
      "123\n"
     ]
    }
   ],
   "source": [
    "-"
   ]
  },
  {
   "cell_type": "code",
   "execution_count": 26,
   "metadata": {
    "collapsed": false,
    "scrolled": true
   },
   "outputs": [],
   "source": [
    "for link_id in link_df.index.values:\n",
    "    #print(link_id)\n",
    "    for m in range(2):\n",
    "        #print(m)\n",
    "        time_df = pd.DataFrame(link_time_dict[link_id][m]).T\n",
    "        time_df = time_df.fillna(0)\n",
    "#         temp_time_df = time_df.reset_index(drop=True)\n",
    "\n",
    "#         for i in range(91, 98):\n",
    "#             for t in range(7):\n",
    "#                 if t == 6:\n",
    "#                     temp_time_df.iloc[i][t] = 0\n",
    "                    \n",
    "#                 elif np.isnan(temp_time_df.loc[i][t]) :\n",
    "#                     print('nan: id=%d m=%d i=%d t=%d'%(link_id, m, i, t))\n",
    "\n",
    "#         time_df[np.array(range(7))] = temp_time_df[np.array(range(7))].values\n",
    "\n",
    "        if m == 0:\n",
    "            time_df.to_csv('../data/process/link_median_time/morning/' + str(link_id) + '.csv')\n",
    "\n",
    "        else:\n",
    "            time_df.to_csv('../data/process/link_median_time/afternoon/' + str(link_id) + '.csv')\n"
   ]
  },
  {
   "cell_type": "markdown",
   "metadata": {
    "collapsed": false
   },
   "source": [
    "# 计算预测区间内每20分钟的平均流量数据，用于验证"
   ]
  },
  {
   "cell_type": "code",
   "execution_count": 27,
   "metadata": {
    "collapsed": false
   },
   "outputs": [
    {
     "name": "stdout",
     "output_type": "stream",
     "text": [
      "100\n",
      "101\n",
      "102\n",
      "103\n",
      "104\n",
      "105\n",
      "106\n",
      "107\n",
      "108\n",
      "109\n",
      "110\n",
      "111\n",
      "112\n",
      "113\n",
      "114\n",
      "115\n",
      "116\n",
      "117\n",
      "118\n",
      "119\n",
      "120\n",
      "121\n",
      "122\n",
      "123\n"
     ]
    }
   ],
   "source": [
    "am_start_date = pd.to_datetime('2016-09-11')\n",
    "am_end_date = pd.to_datetime('2016-10-24')\n",
    "link_time_dict = {}\n",
    "\n",
    "for link_id in link_df.index.values:\n",
    "    print(link_id)\n",
    "    appoint_link_df = valid_travel_link_df[valid_travel_link_df['link'] == link_id]\n",
    "    morning_link_time_dict = {}\n",
    "    afternoon_link_time_dict = {}\n",
    "    \n",
    "    norm_date = am_start_date\n",
    "    while (norm_date <= am_end_date ):\n",
    "        morning_time_start = norm_date + datetime.timedelta(hours=8)\n",
    "        morning_time_end = norm_date + datetime.timedelta(hours=10)\n",
    "        \n",
    "        afternoon_time_start = norm_date + datetime.timedelta(hours=17)\n",
    "        afternoon_time_end = norm_date + datetime.timedelta(hours=19)\n",
    "        \n",
    "        day_morning_means = []\n",
    "        prev_time = current_time = morning_time_start\n",
    "        for p in range(6):\n",
    "            current_time = current_time + datetime.timedelta(minutes=20)\n",
    "            temp_df = appoint_link_df[(appoint_link_df['start_time'] >= prev_time) & (appoint_link_df['start_time'] < current_time)]\n",
    "            if len(temp_df) == 0:\n",
    "                day_morning_means.append(np.nan)\n",
    "            else:\n",
    "                day_morning_means.append(temp_df['consume'].mean())\n",
    "            \n",
    "            prev_time = current_time\n",
    "            \n",
    "        ############################################################################\n",
    "        day_afternoon_means = []\n",
    "        prev_time = current_time = afternoon_time_start\n",
    "        for p in range(6):\n",
    "            current_time = current_time + datetime.timedelta(minutes=20)\n",
    "            temp_df = appoint_link_df[(appoint_link_df['start_time'] >= prev_time) & (appoint_link_df['start_time'] < current_time)]\n",
    "            if len(temp_df) == 0:\n",
    "                day_afternoon_means.append(np.nan)\n",
    "            else:\n",
    "                day_afternoon_means.append(temp_df['consume'].mean())\n",
    "            \n",
    "            prev_time = current_time\n",
    "        \n",
    "        ############################################################################\n",
    "\n",
    "        morning_link_time_dict[norm_date] = day_morning_means\n",
    "        afternoon_link_time_dict[norm_date] = day_afternoon_means\n",
    "       \n",
    "        norm_date = norm_date + datetime.timedelta(days=1)\n",
    "        \n",
    "    link_time_dict[link_id] = [morning_link_time_dict, afternoon_link_time_dict]"
   ]
  },
  {
   "cell_type": "code",
   "execution_count": 28,
   "metadata": {
    "collapsed": true
   },
   "outputs": [],
   "source": [
    "#前三天 + 后三天的均值，取到多少算多少，遇到NAN 则跳过\n",
    "def getMeanTime(df, i, t, min_index, max_index):\n",
    "    s = 0\n",
    "    c = 0\n",
    "    for k in range(1, 5):\n",
    "        if (i - k) >= min_index :\n",
    "            s = s + df.loc[i-k][t]\n",
    "            c = c + 1\n",
    "            \n",
    "        if ((i + k) <= max_index) and ~np.isnan(df.loc[i + k][t]):\n",
    "            s = s + df.loc[i+k][t]\n",
    "            c = c + 1\n",
    "    return s / c"
   ]
  },
  {
   "cell_type": "code",
   "execution_count": null,
   "metadata": {
    "collapsed": true
   },
   "outputs": [],
   "source": []
  },
  {
   "cell_type": "code",
   "execution_count": 32,
   "metadata": {
    "collapsed": false
   },
   "outputs": [
    {
     "name": "stdout",
     "output_type": "stream",
     "text": [
      "RangeIndex(start=0, stop=44, step=1)\n",
      "44\n",
      "RangeIndex(start=0, stop=44, step=1)\n",
      "44\n",
      "RangeIndex(start=0, stop=44, step=1)\n",
      "44\n",
      "RangeIndex(start=0, stop=44, step=1)\n",
      "44\n",
      "RangeIndex(start=0, stop=44, step=1)\n",
      "44\n",
      "RangeIndex(start=0, stop=44, step=1)\n",
      "44\n",
      "RangeIndex(start=0, stop=44, step=1)\n",
      "44\n",
      "RangeIndex(start=0, stop=44, step=1)\n",
      "44\n",
      "RangeIndex(start=0, stop=44, step=1)\n",
      "44\n",
      "RangeIndex(start=0, stop=44, step=1)\n",
      "44\n",
      "RangeIndex(start=0, stop=44, step=1)\n",
      "44\n",
      "RangeIndex(start=0, stop=44, step=1)\n",
      "44\n",
      "RangeIndex(start=0, stop=44, step=1)\n",
      "44\n",
      "RangeIndex(start=0, stop=44, step=1)\n",
      "44\n",
      "RangeIndex(start=0, stop=44, step=1)\n",
      "44\n",
      "RangeIndex(start=0, stop=44, step=1)\n",
      "44\n",
      "RangeIndex(start=0, stop=44, step=1)\n",
      "44\n",
      "RangeIndex(start=0, stop=44, step=1)\n",
      "44\n",
      "RangeIndex(start=0, stop=44, step=1)\n",
      "44\n",
      "RangeIndex(start=0, stop=44, step=1)\n",
      "44\n",
      "RangeIndex(start=0, stop=44, step=1)\n",
      "44\n",
      "RangeIndex(start=0, stop=44, step=1)\n",
      "44\n",
      "RangeIndex(start=0, stop=44, step=1)\n",
      "44\n",
      "RangeIndex(start=0, stop=44, step=1)\n",
      "44\n",
      "RangeIndex(start=0, stop=44, step=1)\n",
      "44\n",
      "RangeIndex(start=0, stop=44, step=1)\n",
      "44\n",
      "RangeIndex(start=0, stop=44, step=1)\n",
      "44\n",
      "RangeIndex(start=0, stop=44, step=1)\n",
      "44\n",
      "RangeIndex(start=0, stop=44, step=1)\n",
      "44\n",
      "RangeIndex(start=0, stop=44, step=1)\n",
      "44\n",
      "RangeIndex(start=0, stop=44, step=1)\n",
      "44\n",
      "RangeIndex(start=0, stop=44, step=1)\n",
      "44\n",
      "RangeIndex(start=0, stop=44, step=1)\n",
      "44\n",
      "RangeIndex(start=0, stop=44, step=1)\n",
      "44\n",
      "RangeIndex(start=0, stop=44, step=1)\n",
      "44\n",
      "RangeIndex(start=0, stop=44, step=1)\n",
      "44\n",
      "RangeIndex(start=0, stop=44, step=1)\n",
      "44\n",
      "RangeIndex(start=0, stop=44, step=1)\n",
      "44\n",
      "RangeIndex(start=0, stop=44, step=1)\n",
      "44\n",
      "RangeIndex(start=0, stop=44, step=1)\n",
      "44\n",
      "RangeIndex(start=0, stop=44, step=1)\n",
      "44\n",
      "RangeIndex(start=0, stop=44, step=1)\n",
      "44\n",
      "RangeIndex(start=0, stop=44, step=1)\n",
      "44\n",
      "RangeIndex(start=0, stop=44, step=1)\n",
      "44\n",
      "RangeIndex(start=0, stop=44, step=1)\n",
      "44\n",
      "RangeIndex(start=0, stop=44, step=1)\n",
      "44\n",
      "RangeIndex(start=0, stop=44, step=1)\n",
      "44\n",
      "RangeIndex(start=0, stop=44, step=1)\n",
      "44\n"
     ]
    }
   ],
   "source": [
    "for link_id in link_df.index.values:\n",
    "    for m in range(2):\n",
    "        time_df = pd.DataFrame(link_time_dict[link_id][m]).T\n",
    "        temp_time_df = time_df.reset_index(drop=True)\n",
    "        for i in range(len(temp_time_df)):\n",
    "            for t in range(6):\n",
    "                if np.isnan(temp_time_df.loc[i][t]) :\n",
    "                    temp_time_df.iloc[i][t] = getMeanTime(temp_time_df, i, t, 0, len(temp_time_df) - 1)\n",
    "        \n",
    "        time_df[np.array(range(6))] = temp_time_df[np.array(range(6))].values\n",
    "        \n",
    "        if m == 0:\n",
    "            time_df.to_csv('../data/process/link_median_time/morning/minute_' + str(link_id) + '.csv')\n",
    "        else:\n",
    "            time_df.to_csv('../data/process/link_median_time/afternoon/minute_' + str(link_id) + '.csv')\n",
    "            "
   ]
  },
  {
   "cell_type": "code",
   "execution_count": null,
   "metadata": {
    "collapsed": true
   },
   "outputs": [],
   "source": []
  }
 ],
 "metadata": {
  "anaconda-cloud": {},
  "kernelspec": {
   "display_name": "Python [conda root]",
   "language": "python",
   "name": "conda-root-py"
  },
  "language_info": {
   "codemirror_mode": {
    "name": "ipython",
    "version": 3
   },
   "file_extension": ".py",
   "mimetype": "text/x-python",
   "name": "python",
   "nbconvert_exporter": "python",
   "pygments_lexer": "ipython3",
   "version": "3.5.2"
  }
 },
 "nbformat": 4,
 "nbformat_minor": 1
}
