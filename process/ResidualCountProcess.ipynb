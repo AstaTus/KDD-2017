{
 "cells": [
  {
   "cell_type": "code",
   "execution_count": null,
   "metadata": {
    "collapsed": true
   },
   "outputs": [],
   "source": [
    "import numpy as np\n",
    "import pandas as pd\n",
    "import datetime"
   ]
  },
  {
   "cell_type": "code",
   "execution_count": null,
   "metadata": {
    "collapsed": true
   },
   "outputs": [],
   "source": []
  },
  {
   "cell_type": "code",
   "execution_count": null,
   "metadata": {
    "collapsed": true
   },
   "outputs": [],
   "source": [
    "top_link_df = pd.read_csv('../data/preprocess/top_discrete_point_link.csv', parse_dates=['end_time', 'start_time', 'norm_start_time'])"
   ]
  },
  {
   "cell_type": "code",
   "execution_count": null,
   "metadata": {
    "collapsed": true
   },
   "outputs": [],
   "source": [
    "link_df = pd.read_csv('../data/original/links (table 3).csv', index_col=0)"
   ]
  },
  {
   "cell_type": "code",
   "execution_count": null,
   "metadata": {
    "collapsed": true
   },
   "outputs": [],
   "source": [
    "am_start_date = pd.to_datetime('2016-07-19')\n",
    "am_end_date = pd.to_datetime('2016-10-24')\n",
    "link_count_dict = {}\n",
    "for link_id in link_df.index.values:\n",
    "    print(link_id)\n",
    "    appoint_link_df = top_link_df[top_link_df['link'] == link_id]\n",
    "    morning_link_count_dict = {}\n",
    "    afternoon_link_count_dict = {}\n",
    "    norm_date = am_start_date\n",
    "    while (norm_date <= am_end_date):\n",
    "        morning_time = norm_date + datetime.timedelta(hours=6)\n",
    "        afternoon_time = norm_date + datetime.timedelta(hours=15)\n",
    "        day_morning_counts = []\n",
    "        day_afternoon_counts = []\n",
    "        for t in range(12):\n",
    "            temp_df = appoint_link_df[appoint_link_df['norm_start_time'] == morning_time]\n",
    "            if len(temp_df) == 0:\n",
    "                day_morning_counts.append(np.nan)\n",
    "            else:\n",
    "                day_morning_counts.append(temp_df['consume'].count())\n",
    "                \n",
    "            morning_time = morning_time + datetime.timedelta(minutes=20)\n",
    "            \n",
    "            temp_df = appoint_link_df[appoint_link_df['norm_start_time'] == afternoon_time]\n",
    "            if len(temp_df) == 0:\n",
    "                day_afternoon_counts.append(np.nan)\n",
    "            else:\n",
    "                day_afternoon_counts.append(temp_df['consume'].count())\n",
    "            afternoon_time = afternoon_time + datetime.timedelta(minutes=20)\n",
    "\n",
    "        morning_link_count_dict[norm_date] = day_morning_counts\n",
    "        afternoon_link_count_dict[norm_date] = day_afternoon_counts\n",
    "\n",
    "        norm_date = norm_date + datetime.timedelta(days=1)\n",
    "        \n",
    "    link_count_dict[link_id] = [morning_link_count_dict, afternoon_link_count_dict]\n",
    "    "
   ]
  },
  {
   "cell_type": "code",
   "execution_count": null,
   "metadata": {
    "collapsed": true
   },
   "outputs": [],
   "source": []
  },
  {
   "cell_type": "code",
   "execution_count": null,
   "metadata": {
    "collapsed": true
   },
   "outputs": [],
   "source": []
  }
 ],
 "metadata": {
  "kernelspec": {
   "display_name": "Python [conda root]",
   "language": "python",
   "name": "conda-root-py"
  },
  "language_info": {
   "codemirror_mode": {
    "name": "ipython",
    "version": 3
   },
   "file_extension": ".py",
   "mimetype": "text/x-python",
   "name": "python",
   "nbconvert_exporter": "python",
   "pygments_lexer": "ipython3",
   "version": "3.5.2"
  }
 },
 "nbformat": 4,
 "nbformat_minor": 1
}
